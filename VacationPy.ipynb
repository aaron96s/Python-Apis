{
 "cells": [
  {
   "cell_type": "markdown",
   "metadata": {},
   "source": [
    "# VacationPy\n",
    "----\n",
    "\n",
    "#### Note\n",
    "* Keep an eye on your API usage. Use https://developers.google.com/maps/reporting/gmp-reporting as reference for how to monitor your usage and billing.\n",
    "\n",
    "* Instructions have been included for each segment. You do not have to follow them exactly, but they are included to help you think through the steps."
   ]
  },
  {
   "cell_type": "code",
   "execution_count": 115,
   "metadata": {},
   "outputs": [],
   "source": [
    "# Dependencies and Setup\n",
    "import matplotlib.pyplot as plt\n",
    "import pandas as pd\n",
    "import numpy as np\n",
    "import requests\n",
    "import gmaps\n",
    "import os\n",
    "\n",
    "# Import API key\n",
    "from api_keys import g_key"
   ]
  },
  {
   "cell_type": "markdown",
   "metadata": {},
   "source": [
    "### Store Part I results into DataFrame\n",
    "* Load the csv exported in Part I to a DataFrame"
   ]
  },
  {
   "cell_type": "code",
   "execution_count": null,
   "metadata": {},
   "outputs": [],
   "source": [
    "\n"
   ]
  },
  {
   "cell_type": "code",
   "execution_count": 116,
   "metadata": {},
   "outputs": [
    {
     "data": {
      "text/html": [
       "<div>\n",
       "<style scoped>\n",
       "    .dataframe tbody tr th:only-of-type {\n",
       "        vertical-align: middle;\n",
       "    }\n",
       "\n",
       "    .dataframe tbody tr th {\n",
       "        vertical-align: top;\n",
       "    }\n",
       "\n",
       "    .dataframe thead th {\n",
       "        text-align: right;\n",
       "    }\n",
       "</style>\n",
       "<table border=\"1\" class=\"dataframe\">\n",
       "  <thead>\n",
       "    <tr style=\"text-align: right;\">\n",
       "      <th></th>\n",
       "      <th>City</th>\n",
       "      <th>Lat</th>\n",
       "      <th>Lng</th>\n",
       "      <th>Max Temp</th>\n",
       "      <th>Humidity</th>\n",
       "      <th>Cloudiness</th>\n",
       "      <th>Wind Speed</th>\n",
       "    </tr>\n",
       "  </thead>\n",
       "  <tbody>\n",
       "    <tr>\n",
       "      <th>0</th>\n",
       "      <td>Castro</td>\n",
       "      <td>-24.7911</td>\n",
       "      <td>-50.0119</td>\n",
       "      <td>51.82</td>\n",
       "      <td>91</td>\n",
       "      <td>0</td>\n",
       "      <td>5.39</td>\n",
       "    </tr>\n",
       "    <tr>\n",
       "      <th>1</th>\n",
       "      <td>Mataura</td>\n",
       "      <td>-46.1927</td>\n",
       "      <td>168.8643</td>\n",
       "      <td>72.39</td>\n",
       "      <td>57</td>\n",
       "      <td>97</td>\n",
       "      <td>0.81</td>\n",
       "    </tr>\n",
       "    <tr>\n",
       "      <th>2</th>\n",
       "      <td>Punta Arenas</td>\n",
       "      <td>-53.1500</td>\n",
       "      <td>-70.9167</td>\n",
       "      <td>59.00</td>\n",
       "      <td>44</td>\n",
       "      <td>90</td>\n",
       "      <td>4.61</td>\n",
       "    </tr>\n",
       "    <tr>\n",
       "      <th>3</th>\n",
       "      <td>Thompson</td>\n",
       "      <td>55.7435</td>\n",
       "      <td>-97.8558</td>\n",
       "      <td>-25.60</td>\n",
       "      <td>62</td>\n",
       "      <td>90</td>\n",
       "      <td>14.97</td>\n",
       "    </tr>\n",
       "    <tr>\n",
       "      <th>4</th>\n",
       "      <td>Guerrero Negro</td>\n",
       "      <td>27.9769</td>\n",
       "      <td>-114.0611</td>\n",
       "      <td>59.54</td>\n",
       "      <td>77</td>\n",
       "      <td>0</td>\n",
       "      <td>8.08</td>\n",
       "    </tr>\n",
       "  </tbody>\n",
       "</table>\n",
       "</div>"
      ],
      "text/plain": [
       "             City      Lat       Lng  Max Temp  Humidity  Cloudiness  \\\n",
       "0          Castro -24.7911  -50.0119     51.82        91           0   \n",
       "1         Mataura -46.1927  168.8643     72.39        57          97   \n",
       "2    Punta Arenas -53.1500  -70.9167     59.00        44          90   \n",
       "3        Thompson  55.7435  -97.8558    -25.60        62          90   \n",
       "4  Guerrero Negro  27.9769 -114.0611     59.54        77           0   \n",
       "\n",
       "   Wind Speed  \n",
       "0        5.39  \n",
       "1        0.81  \n",
       "2        4.61  \n",
       "3       14.97  \n",
       "4        8.08  "
      ]
     },
     "execution_count": 116,
     "metadata": {},
     "output_type": "execute_result"
    }
   ],
   "source": [
    "data = \"cities_data.csv\"\n",
    "weather_data = pd.read_csv(data)\n",
    "weather_data = weather_data.dropna()\n",
    "del weather_data[\"Unnamed: 0\"]\n",
    "weather_data.head()"
   ]
  },
  {
   "cell_type": "code",
   "execution_count": null,
   "metadata": {},
   "outputs": [],
   "source": []
  },
  {
   "cell_type": "code",
   "execution_count": null,
   "metadata": {},
   "outputs": [],
   "source": []
  },
  {
   "cell_type": "markdown",
   "metadata": {},
   "source": [
    "### Humidity Heatmap\n",
    "* Configure gmaps.\n",
    "* Use the Lat and Lng as locations and Humidity as the weight.\n",
    "* Add Heatmap layer to map."
   ]
  },
  {
   "cell_type": "code",
   "execution_count": 117,
   "metadata": {},
   "outputs": [],
   "source": [
    "gmaps.configure(api_key=g_key)"
   ]
  },
  {
   "cell_type": "code",
   "execution_count": 118,
   "metadata": {},
   "outputs": [],
   "source": [
    "locations = weather_data[[\"Lat\", \"Lng\"]]\n",
    "humidity = weather_data[\"Humidity\"].astype(float)"
   ]
  },
  {
   "cell_type": "code",
   "execution_count": 119,
   "metadata": {},
   "outputs": [
    {
     "data": {
      "application/vnd.jupyter.widget-view+json": {
       "model_id": "74739f30f6ef42d5b648c9a115725d5f",
       "version_major": 2,
       "version_minor": 0
      },
      "text/plain": [
       "Figure(layout=FigureLayout(height='420px'))"
      ]
     },
     "metadata": {},
     "output_type": "display_data"
    },
    {
     "data": {
      "text/plain": [
       "<Figure size 432x288 with 0 Axes>"
      ]
     },
     "metadata": {},
     "output_type": "display_data"
    }
   ],
   "source": [
    "fig = gmaps.figure()\n",
    "heat_layer = gmaps.heatmap_layer(locations, weights=humidity,\n",
    "dissipating=False, max_intensity=100,point_radius=3)\n",
    "fig.add_layer(heat_layer)\n",
    "plt.savefig('heatmaps.png')\n",
    "fig"
   ]
  },
  {
   "cell_type": "markdown",
   "metadata": {},
   "source": [
    "### Create new DataFrame fitting weather criteria\n",
    "* Narrow down the cities to fit weather conditions.\n",
    "* Drop any rows will null values."
   ]
  },
  {
   "cell_type": "code",
   "execution_count": null,
   "metadata": {},
   "outputs": [],
   "source": []
  },
  {
   "cell_type": "code",
   "execution_count": 120,
   "metadata": {},
   "outputs": [],
   "source": [
    "vacation_cloud = weather_data[weather_data[\"Cloudiness\"] <5]\n",
    "vacation_min_temp = vacation_cloud[vacation_cloud[\"Max Temp\"] > 65]\n",
    "vacation_max_temp = vacation_min_temp[vacation_min_temp[\"Max Temp\"] < 90]\n",
    "vacation_wind = vacation_max_temp[vacation_max_temp[\"Wind Speed\"] < 5]\n",
    "vacation_humidity = vacation_wind[vacation_wind[\"Humidity\"] < 70]"
   ]
  },
  {
   "cell_type": "code",
   "execution_count": 121,
   "metadata": {},
   "outputs": [
    {
     "data": {
      "text/html": [
       "<div>\n",
       "<style scoped>\n",
       "    .dataframe tbody tr th:only-of-type {\n",
       "        vertical-align: middle;\n",
       "    }\n",
       "\n",
       "    .dataframe tbody tr th {\n",
       "        vertical-align: top;\n",
       "    }\n",
       "\n",
       "    .dataframe thead th {\n",
       "        text-align: right;\n",
       "    }\n",
       "</style>\n",
       "<table border=\"1\" class=\"dataframe\">\n",
       "  <thead>\n",
       "    <tr style=\"text-align: right;\">\n",
       "      <th></th>\n",
       "      <th>index</th>\n",
       "      <th>City</th>\n",
       "      <th>Lat</th>\n",
       "      <th>Lng</th>\n",
       "      <th>Max Temp</th>\n",
       "      <th>Humidity</th>\n",
       "      <th>Cloudiness</th>\n",
       "      <th>Wind Speed</th>\n",
       "    </tr>\n",
       "  </thead>\n",
       "  <tbody>\n",
       "    <tr>\n",
       "      <th>0</th>\n",
       "      <td>216</td>\n",
       "      <td>Otjimbingwe</td>\n",
       "      <td>-22.3500</td>\n",
       "      <td>16.1333</td>\n",
       "      <td>79.74</td>\n",
       "      <td>36</td>\n",
       "      <td>3</td>\n",
       "      <td>4.07</td>\n",
       "    </tr>\n",
       "    <tr>\n",
       "      <th>1</th>\n",
       "      <td>275</td>\n",
       "      <td>Tālcher</td>\n",
       "      <td>20.9500</td>\n",
       "      <td>85.2167</td>\n",
       "      <td>83.07</td>\n",
       "      <td>21</td>\n",
       "      <td>0</td>\n",
       "      <td>2.68</td>\n",
       "    </tr>\n",
       "    <tr>\n",
       "      <th>2</th>\n",
       "      <td>320</td>\n",
       "      <td>Dalbandin</td>\n",
       "      <td>28.8947</td>\n",
       "      <td>64.4101</td>\n",
       "      <td>70.12</td>\n",
       "      <td>18</td>\n",
       "      <td>3</td>\n",
       "      <td>2.82</td>\n",
       "    </tr>\n",
       "    <tr>\n",
       "      <th>3</th>\n",
       "      <td>407</td>\n",
       "      <td>Makakilo City</td>\n",
       "      <td>21.3469</td>\n",
       "      <td>-158.0858</td>\n",
       "      <td>69.48</td>\n",
       "      <td>68</td>\n",
       "      <td>1</td>\n",
       "      <td>3.51</td>\n",
       "    </tr>\n",
       "    <tr>\n",
       "      <th>4</th>\n",
       "      <td>417</td>\n",
       "      <td>Agartala</td>\n",
       "      <td>23.8364</td>\n",
       "      <td>91.2750</td>\n",
       "      <td>75.20</td>\n",
       "      <td>57</td>\n",
       "      <td>0</td>\n",
       "      <td>3.44</td>\n",
       "    </tr>\n",
       "  </tbody>\n",
       "</table>\n",
       "</div>"
      ],
      "text/plain": [
       "   index           City      Lat       Lng  Max Temp  Humidity  Cloudiness  \\\n",
       "0    216    Otjimbingwe -22.3500   16.1333     79.74        36           3   \n",
       "1    275        Tālcher  20.9500   85.2167     83.07        21           0   \n",
       "2    320      Dalbandin  28.8947   64.4101     70.12        18           3   \n",
       "3    407  Makakilo City  21.3469 -158.0858     69.48        68           1   \n",
       "4    417       Agartala  23.8364   91.2750     75.20        57           0   \n",
       "\n",
       "   Wind Speed  \n",
       "0        4.07  \n",
       "1        2.68  \n",
       "2        2.82  \n",
       "3        3.51  \n",
       "4        3.44  "
      ]
     },
     "execution_count": 121,
     "metadata": {},
     "output_type": "execute_result"
    }
   ],
   "source": [
    "perfect_vacation = vacation_humidity.reset_index()\n",
    "perfect_vacation.head()"
   ]
  },
  {
   "cell_type": "code",
   "execution_count": 122,
   "metadata": {},
   "outputs": [],
   "source": [
    "del perfect_vacation[\"index\"]"
   ]
  },
  {
   "cell_type": "code",
   "execution_count": 123,
   "metadata": {},
   "outputs": [
    {
     "data": {
      "text/html": [
       "<div>\n",
       "<style scoped>\n",
       "    .dataframe tbody tr th:only-of-type {\n",
       "        vertical-align: middle;\n",
       "    }\n",
       "\n",
       "    .dataframe tbody tr th {\n",
       "        vertical-align: top;\n",
       "    }\n",
       "\n",
       "    .dataframe thead th {\n",
       "        text-align: right;\n",
       "    }\n",
       "</style>\n",
       "<table border=\"1\" class=\"dataframe\">\n",
       "  <thead>\n",
       "    <tr style=\"text-align: right;\">\n",
       "      <th></th>\n",
       "      <th>City</th>\n",
       "      <th>Lat</th>\n",
       "      <th>Lng</th>\n",
       "      <th>Max Temp</th>\n",
       "      <th>Humidity</th>\n",
       "      <th>Cloudiness</th>\n",
       "      <th>Wind Speed</th>\n",
       "    </tr>\n",
       "  </thead>\n",
       "  <tbody>\n",
       "    <tr>\n",
       "      <th>0</th>\n",
       "      <td>Otjimbingwe</td>\n",
       "      <td>-22.3500</td>\n",
       "      <td>16.1333</td>\n",
       "      <td>79.74</td>\n",
       "      <td>36</td>\n",
       "      <td>3</td>\n",
       "      <td>4.07</td>\n",
       "    </tr>\n",
       "    <tr>\n",
       "      <th>1</th>\n",
       "      <td>Tālcher</td>\n",
       "      <td>20.9500</td>\n",
       "      <td>85.2167</td>\n",
       "      <td>83.07</td>\n",
       "      <td>21</td>\n",
       "      <td>0</td>\n",
       "      <td>2.68</td>\n",
       "    </tr>\n",
       "    <tr>\n",
       "      <th>2</th>\n",
       "      <td>Dalbandin</td>\n",
       "      <td>28.8947</td>\n",
       "      <td>64.4101</td>\n",
       "      <td>70.12</td>\n",
       "      <td>18</td>\n",
       "      <td>3</td>\n",
       "      <td>2.82</td>\n",
       "    </tr>\n",
       "    <tr>\n",
       "      <th>3</th>\n",
       "      <td>Makakilo City</td>\n",
       "      <td>21.3469</td>\n",
       "      <td>-158.0858</td>\n",
       "      <td>69.48</td>\n",
       "      <td>68</td>\n",
       "      <td>1</td>\n",
       "      <td>3.51</td>\n",
       "    </tr>\n",
       "    <tr>\n",
       "      <th>4</th>\n",
       "      <td>Agartala</td>\n",
       "      <td>23.8364</td>\n",
       "      <td>91.2750</td>\n",
       "      <td>75.20</td>\n",
       "      <td>57</td>\n",
       "      <td>0</td>\n",
       "      <td>3.44</td>\n",
       "    </tr>\n",
       "    <tr>\n",
       "      <th>5</th>\n",
       "      <td>Iquique</td>\n",
       "      <td>-20.2208</td>\n",
       "      <td>-70.1431</td>\n",
       "      <td>69.80</td>\n",
       "      <td>60</td>\n",
       "      <td>0</td>\n",
       "      <td>1.14</td>\n",
       "    </tr>\n",
       "    <tr>\n",
       "      <th>6</th>\n",
       "      <td>Korhogo</td>\n",
       "      <td>9.4500</td>\n",
       "      <td>-5.6333</td>\n",
       "      <td>70.79</td>\n",
       "      <td>28</td>\n",
       "      <td>1</td>\n",
       "      <td>1.52</td>\n",
       "    </tr>\n",
       "  </tbody>\n",
       "</table>\n",
       "</div>"
      ],
      "text/plain": [
       "            City      Lat       Lng  Max Temp  Humidity  Cloudiness  \\\n",
       "0    Otjimbingwe -22.3500   16.1333     79.74        36           3   \n",
       "1        Tālcher  20.9500   85.2167     83.07        21           0   \n",
       "2      Dalbandin  28.8947   64.4101     70.12        18           3   \n",
       "3  Makakilo City  21.3469 -158.0858     69.48        68           1   \n",
       "4       Agartala  23.8364   91.2750     75.20        57           0   \n",
       "5        Iquique -20.2208  -70.1431     69.80        60           0   \n",
       "6        Korhogo   9.4500   -5.6333     70.79        28           1   \n",
       "\n",
       "   Wind Speed  \n",
       "0        4.07  \n",
       "1        2.68  \n",
       "2        2.82  \n",
       "3        3.51  \n",
       "4        3.44  \n",
       "5        1.14  \n",
       "6        1.52  "
      ]
     },
     "execution_count": 123,
     "metadata": {},
     "output_type": "execute_result"
    }
   ],
   "source": [
    "perfect_vacation"
   ]
  },
  {
   "cell_type": "markdown",
   "metadata": {},
   "source": [
    "### Hotel Map\n",
    "* Store into variable named `hotel_df`.\n",
    "* Add a \"Hotel Name\" column to the DataFrame.\n",
    "* Set parameters to search for hotels with 5000 meters.\n",
    "* Hit the Google Places API for each city's coordinates.\n",
    "* Store the first Hotel result into the DataFrame.\n",
    "* Plot markers on top of the heatmap."
   ]
  },
  {
   "cell_type": "code",
   "execution_count": null,
   "metadata": {},
   "outputs": [],
   "source": []
  },
  {
   "cell_type": "code",
   "execution_count": 124,
   "metadata": {},
   "outputs": [
    {
     "data": {
      "text/html": [
       "<div>\n",
       "<style scoped>\n",
       "    .dataframe tbody tr th:only-of-type {\n",
       "        vertical-align: middle;\n",
       "    }\n",
       "\n",
       "    .dataframe tbody tr th {\n",
       "        vertical-align: top;\n",
       "    }\n",
       "\n",
       "    .dataframe thead th {\n",
       "        text-align: right;\n",
       "    }\n",
       "</style>\n",
       "<table border=\"1\" class=\"dataframe\">\n",
       "  <thead>\n",
       "    <tr style=\"text-align: right;\">\n",
       "      <th></th>\n",
       "      <th>City</th>\n",
       "      <th>Lat</th>\n",
       "      <th>Lng</th>\n",
       "      <th>Max Temp</th>\n",
       "      <th>Humidity</th>\n",
       "      <th>Cloudiness</th>\n",
       "      <th>Wind Speed</th>\n",
       "      <th>Nearest Hotel</th>\n",
       "    </tr>\n",
       "  </thead>\n",
       "  <tbody>\n",
       "    <tr>\n",
       "      <th>0</th>\n",
       "      <td>Otjimbingwe</td>\n",
       "      <td>-22.3500</td>\n",
       "      <td>16.1333</td>\n",
       "      <td>79.74</td>\n",
       "      <td>36</td>\n",
       "      <td>3</td>\n",
       "      <td>4.07</td>\n",
       "      <td>Otjimbingwe</td>\n",
       "    </tr>\n",
       "    <tr>\n",
       "      <th>1</th>\n",
       "      <td>Tālcher</td>\n",
       "      <td>20.9500</td>\n",
       "      <td>85.2167</td>\n",
       "      <td>83.07</td>\n",
       "      <td>21</td>\n",
       "      <td>0</td>\n",
       "      <td>2.68</td>\n",
       "      <td>Talcher Town</td>\n",
       "    </tr>\n",
       "    <tr>\n",
       "      <th>2</th>\n",
       "      <td>Dalbandin</td>\n",
       "      <td>28.8947</td>\n",
       "      <td>64.4101</td>\n",
       "      <td>70.12</td>\n",
       "      <td>18</td>\n",
       "      <td>3</td>\n",
       "      <td>2.82</td>\n",
       "      <td>Dalbandin</td>\n",
       "    </tr>\n",
       "    <tr>\n",
       "      <th>3</th>\n",
       "      <td>Makakilo City</td>\n",
       "      <td>21.3469</td>\n",
       "      <td>-158.0858</td>\n",
       "      <td>69.48</td>\n",
       "      <td>68</td>\n",
       "      <td>1</td>\n",
       "      <td>3.51</td>\n",
       "      <td>Kapolei</td>\n",
       "    </tr>\n",
       "    <tr>\n",
       "      <th>4</th>\n",
       "      <td>Agartala</td>\n",
       "      <td>23.8364</td>\n",
       "      <td>91.2750</td>\n",
       "      <td>75.20</td>\n",
       "      <td>57</td>\n",
       "      <td>0</td>\n",
       "      <td>3.44</td>\n",
       "      <td>Agartala</td>\n",
       "    </tr>\n",
       "    <tr>\n",
       "      <th>5</th>\n",
       "      <td>Iquique</td>\n",
       "      <td>-20.2208</td>\n",
       "      <td>-70.1431</td>\n",
       "      <td>69.80</td>\n",
       "      <td>60</td>\n",
       "      <td>0</td>\n",
       "      <td>1.14</td>\n",
       "      <td>Iquique</td>\n",
       "    </tr>\n",
       "    <tr>\n",
       "      <th>6</th>\n",
       "      <td>Korhogo</td>\n",
       "      <td>9.4500</td>\n",
       "      <td>-5.6333</td>\n",
       "      <td>70.79</td>\n",
       "      <td>28</td>\n",
       "      <td>1</td>\n",
       "      <td>1.52</td>\n",
       "      <td>Korhogo</td>\n",
       "    </tr>\n",
       "  </tbody>\n",
       "</table>\n",
       "</div>"
      ],
      "text/plain": [
       "            City      Lat       Lng  Max Temp  Humidity  Cloudiness  \\\n",
       "0    Otjimbingwe -22.3500   16.1333     79.74        36           3   \n",
       "1        Tālcher  20.9500   85.2167     83.07        21           0   \n",
       "2      Dalbandin  28.8947   64.4101     70.12        18           3   \n",
       "3  Makakilo City  21.3469 -158.0858     69.48        68           1   \n",
       "4       Agartala  23.8364   91.2750     75.20        57           0   \n",
       "5        Iquique -20.2208  -70.1431     69.80        60           0   \n",
       "6        Korhogo   9.4500   -5.6333     70.79        28           1   \n",
       "\n",
       "   Wind Speed Nearest Hotel  \n",
       "0        4.07   Otjimbingwe  \n",
       "1        2.68  Talcher Town  \n",
       "2        2.82     Dalbandin  \n",
       "3        3.51       Kapolei  \n",
       "4        3.44      Agartala  \n",
       "5        1.14       Iquique  \n",
       "6        1.52       Korhogo  "
      ]
     },
     "execution_count": 124,
     "metadata": {},
     "output_type": "execute_result"
    }
   ],
   "source": [
    "hotels = []\n",
    "for city in range(len(perfect_vacation[\"City\"])):\n",
    "    lat = perfect_vacation.loc[city][\"Lat\"]\n",
    "    lng = perfect_vacation.loc[city][\"Lng\"]\n",
    "    city_loc = f\"{lat},{lng}\"\n",
    "    params = {\"location\": city_loc, \n",
    "            \"types\": \"hotels\",\n",
    "            \"radius\": 5000,\n",
    "            \"key\": g_key}\n",
    "    base_url = \"https://maps.googleapis.com/maps/api/place/nearbysearch/json\"   \n",
    "    hotel_request = requests.get(base_url, params=params)\n",
    "    hotel_response = hotel_request.json()\n",
    "\n",
    "    try:\n",
    "        hotels.append(hotel_response[\"results\"][0][\"name\"])\n",
    "    except:\n",
    "        hotels.append(\"no hotels found\")\n",
    "perfect_vacation[\"Nearest Hotel\"] = hotels\n",
    "perfect_vacation"
   ]
  },
  {
   "cell_type": "code",
   "execution_count": null,
   "metadata": {},
   "outputs": [],
   "source": []
  },
  {
   "cell_type": "code",
   "execution_count": 125,
   "metadata": {},
   "outputs": [],
   "source": [
    "# NOTE: Do not change any of the code in this cell\n",
    "\n",
    "# Using the template add the hotel marks to the heatmap\n",
    "info_box_template = \"\"\"\n",
    "<dl>\n",
    "<dt>Name</dt><dd>{Nearest Hotel}</dd>\n",
    "<dt>City</dt><dd>{City}</dd>\n",
    "</dl>\n",
    "\"\"\"\n",
    "# Store the DataFrame Row\n",
    "# NOTE: be sure to update with your DataFrame name\n",
    "hotel_info = [info_box_template.format(**row) for index, row in perfect_vacation.iterrows()]\n",
    "locations = perfect_vacation[[\"Lat\", \"Lng\"]]"
   ]
  },
  {
   "cell_type": "code",
   "execution_count": 126,
   "metadata": {},
   "outputs": [
    {
     "data": {
      "application/vnd.jupyter.widget-view+json": {
       "model_id": "74739f30f6ef42d5b648c9a115725d5f",
       "version_major": 2,
       "version_minor": 0
      },
      "text/plain": [
       "Figure(layout=FigureLayout(height='420px'))"
      ]
     },
     "metadata": {},
     "output_type": "display_data"
    },
    {
     "data": {
      "text/plain": [
       "<Figure size 432x288 with 0 Axes>"
      ]
     },
     "metadata": {},
     "output_type": "display_data"
    }
   ],
   "source": [
    "markers = gmaps.marker_layer(locations, info_box_content= [f\"Nearest Hotel: {hotel}\" for hotel in hotels])\n",
    "fig.add_layer(markers)\n",
    "plt.savefig('heatmaps.png')\n",
    "fig\n",
    "\n",
    "\n"
   ]
  },
  {
   "cell_type": "code",
   "execution_count": null,
   "metadata": {},
   "outputs": [],
   "source": []
  }
 ],
 "metadata": {
  "kernelspec": {
   "display_name": "Python 3",
   "language": "python",
   "name": "python3"
  },
  "language_info": {
   "codemirror_mode": {
    "name": "ipython",
    "version": 3
   },
   "file_extension": ".py",
   "mimetype": "text/x-python",
   "name": "python",
   "nbconvert_exporter": "python",
   "pygments_lexer": "ipython3",
   "version": "3.8.5"
  },
  "latex_envs": {
   "LaTeX_envs_menu_present": true,
   "autoclose": false,
   "autocomplete": true,
   "bibliofile": "biblio.bib",
   "cite_by": "apalike",
   "current_citInitial": 1,
   "eqLabelWithNumbers": true,
   "eqNumInitial": 1,
   "hotkeys": {
    "equation": "Ctrl-E",
    "itemize": "Ctrl-I"
   },
   "labels_anchors": false,
   "latex_user_defs": false,
   "report_style_numbering": false,
   "user_envs_cfg": false
  }
 },
 "nbformat": 4,
 "nbformat_minor": 4
}
